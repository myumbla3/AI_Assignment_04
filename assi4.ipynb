{
  "nbformat": 4,
  "nbformat_minor": 0,
  "metadata": {
    "kernelspec": {
      "display_name": "Python 3",
      "language": "python",
      "name": "python3"
    },
    "language_info": {
      "codemirror_mode": {
        "name": "ipython",
        "version": 3
      },
      "file_extension": ".py",
      "mimetype": "text/x-python",
      "name": "python",
      "nbconvert_exporter": "python",
      "pygments_lexer": "ipython3",
      "version": "3.8.5"
    },
    "colab": {
      "name": "assi4.ipynb",
      "provenance": [],
      "include_colab_link": true
    }
  },
  "cells": [
    {
      "cell_type": "markdown",
      "metadata": {
        "id": "view-in-github",
        "colab_type": "text"
      },
      "source": [
        "<a href=\"https://colab.research.google.com/github/myumbla3/AI_Assignment_04/blob/main/assi4.ipynb\" target=\"_parent\"><img src=\"https://colab.research.google.com/assets/colab-badge.svg\" alt=\"Open In Colab\"/></a>"
      ]
    },
    {
      "cell_type": "markdown",
      "metadata": {
        "id": "i3b7K7pPpeIK"
      },
      "source": [
        "https://colab.research.google.com/github/myumbla3/AI_Assignment_04/blob/main/assi4.ipynb#scrollTo=BApy8gtzm0UU"
      ]
    },
    {
      "cell_type": "markdown",
      "metadata": {
        "id": "HlgQSLIcpfDM"
      },
      "source": [
        " <a href=\"https://github.com/myumbla3/AI_Assignment_04/blob/main/assi4.ipynb\" target=\"_parent\"><img src=\"https://colab.research.google.com/assets/colab-badge.svg\" alt=\"Open In Colab\"/></a>"
      ]
    },
    {
      "cell_type": "code",
      "metadata": {
        "id": "785yLwc2peIO"
      },
      "source": [
        "#imports\n",
        "from sklearn.datasets import load_iris\n",
        "import numpy as np\n",
        "import pandas as pd\n",
        "from sklearn.model_selection import train_test_split\n",
        "from sklearn.linear_model import LogisticRegression\n",
        "from sklearn import svm\n",
        "from sklearn.neural_network import MLPClassifier\n",
        "from sklearn.neighbors import KNeighborsClassifier"
      ],
      "execution_count": null,
      "outputs": []
    },
    {
      "cell_type": "markdown",
      "metadata": {
        "id": "jLP-umm3peIQ"
      },
      "source": [
        "# Part1: Load the dataset"
      ]
    },
    {
      "cell_type": "code",
      "metadata": {
        "id": "XvUd6ee1peIQ",
        "outputId": "ee7aac61-7fc8-4d5a-ce56-654b9ad844d8"
      },
      "source": [
        "# load Iris data set\n",
        "\n",
        "iris_data = load_iris()\n",
        "iris_df = pd.DataFrame(\n",
        "  data=np.append(\n",
        "    iris_data['data'], \n",
        "    np.array(iris_data['target']).reshape(len(iris_data['target']), 1), \n",
        "    axis=1),\n",
        "  columns=np.append(iris_data['feature_names'], ['species'])\n",
        ")\n",
        "\n",
        "iris_df['species'] = iris_df['species'].astype('int64')\n",
        "\n",
        "iris_df.sample(n=15)"
      ],
      "execution_count": null,
      "outputs": [
        {
          "data": {
            "text/html": [
              "<div>\n",
              "<style scoped>\n",
              "    .dataframe tbody tr th:only-of-type {\n",
              "        vertical-align: middle;\n",
              "    }\n",
              "\n",
              "    .dataframe tbody tr th {\n",
              "        vertical-align: top;\n",
              "    }\n",
              "\n",
              "    .dataframe thead th {\n",
              "        text-align: right;\n",
              "    }\n",
              "</style>\n",
              "<table border=\"1\" class=\"dataframe\">\n",
              "  <thead>\n",
              "    <tr style=\"text-align: right;\">\n",
              "      <th></th>\n",
              "      <th>sepal length (cm)</th>\n",
              "      <th>sepal width (cm)</th>\n",
              "      <th>petal length (cm)</th>\n",
              "      <th>petal width (cm)</th>\n",
              "      <th>species</th>\n",
              "    </tr>\n",
              "  </thead>\n",
              "  <tbody>\n",
              "    <tr>\n",
              "      <th>147</th>\n",
              "      <td>6.5</td>\n",
              "      <td>3.0</td>\n",
              "      <td>5.2</td>\n",
              "      <td>2.0</td>\n",
              "      <td>2</td>\n",
              "    </tr>\n",
              "    <tr>\n",
              "      <th>130</th>\n",
              "      <td>7.4</td>\n",
              "      <td>2.8</td>\n",
              "      <td>6.1</td>\n",
              "      <td>1.9</td>\n",
              "      <td>2</td>\n",
              "    </tr>\n",
              "    <tr>\n",
              "      <th>28</th>\n",
              "      <td>5.2</td>\n",
              "      <td>3.4</td>\n",
              "      <td>1.4</td>\n",
              "      <td>0.2</td>\n",
              "      <td>0</td>\n",
              "    </tr>\n",
              "    <tr>\n",
              "      <th>64</th>\n",
              "      <td>5.6</td>\n",
              "      <td>2.9</td>\n",
              "      <td>3.6</td>\n",
              "      <td>1.3</td>\n",
              "      <td>1</td>\n",
              "    </tr>\n",
              "    <tr>\n",
              "      <th>80</th>\n",
              "      <td>5.5</td>\n",
              "      <td>2.4</td>\n",
              "      <td>3.8</td>\n",
              "      <td>1.1</td>\n",
              "      <td>1</td>\n",
              "    </tr>\n",
              "    <tr>\n",
              "      <th>100</th>\n",
              "      <td>6.3</td>\n",
              "      <td>3.3</td>\n",
              "      <td>6.0</td>\n",
              "      <td>2.5</td>\n",
              "      <td>2</td>\n",
              "    </tr>\n",
              "    <tr>\n",
              "      <th>18</th>\n",
              "      <td>5.7</td>\n",
              "      <td>3.8</td>\n",
              "      <td>1.7</td>\n",
              "      <td>0.3</td>\n",
              "      <td>0</td>\n",
              "    </tr>\n",
              "    <tr>\n",
              "      <th>144</th>\n",
              "      <td>6.7</td>\n",
              "      <td>3.3</td>\n",
              "      <td>5.7</td>\n",
              "      <td>2.5</td>\n",
              "      <td>2</td>\n",
              "    </tr>\n",
              "    <tr>\n",
              "      <th>65</th>\n",
              "      <td>6.7</td>\n",
              "      <td>3.1</td>\n",
              "      <td>4.4</td>\n",
              "      <td>1.4</td>\n",
              "      <td>1</td>\n",
              "    </tr>\n",
              "    <tr>\n",
              "      <th>11</th>\n",
              "      <td>4.8</td>\n",
              "      <td>3.4</td>\n",
              "      <td>1.6</td>\n",
              "      <td>0.2</td>\n",
              "      <td>0</td>\n",
              "    </tr>\n",
              "    <tr>\n",
              "      <th>99</th>\n",
              "      <td>5.7</td>\n",
              "      <td>2.8</td>\n",
              "      <td>4.1</td>\n",
              "      <td>1.3</td>\n",
              "      <td>1</td>\n",
              "    </tr>\n",
              "    <tr>\n",
              "      <th>140</th>\n",
              "      <td>6.7</td>\n",
              "      <td>3.1</td>\n",
              "      <td>5.6</td>\n",
              "      <td>2.4</td>\n",
              "      <td>2</td>\n",
              "    </tr>\n",
              "    <tr>\n",
              "      <th>14</th>\n",
              "      <td>5.8</td>\n",
              "      <td>4.0</td>\n",
              "      <td>1.2</td>\n",
              "      <td>0.2</td>\n",
              "      <td>0</td>\n",
              "    </tr>\n",
              "    <tr>\n",
              "      <th>23</th>\n",
              "      <td>5.1</td>\n",
              "      <td>3.3</td>\n",
              "      <td>1.7</td>\n",
              "      <td>0.5</td>\n",
              "      <td>0</td>\n",
              "    </tr>\n",
              "    <tr>\n",
              "      <th>79</th>\n",
              "      <td>5.7</td>\n",
              "      <td>2.6</td>\n",
              "      <td>3.5</td>\n",
              "      <td>1.0</td>\n",
              "      <td>1</td>\n",
              "    </tr>\n",
              "  </tbody>\n",
              "</table>\n",
              "</div>"
            ],
            "text/plain": [
              "     sepal length (cm)  sepal width (cm)  petal length (cm)  petal width (cm)  \\\n",
              "147                6.5               3.0                5.2               2.0   \n",
              "130                7.4               2.8                6.1               1.9   \n",
              "28                 5.2               3.4                1.4               0.2   \n",
              "64                 5.6               2.9                3.6               1.3   \n",
              "80                 5.5               2.4                3.8               1.1   \n",
              "100                6.3               3.3                6.0               2.5   \n",
              "18                 5.7               3.8                1.7               0.3   \n",
              "144                6.7               3.3                5.7               2.5   \n",
              "65                 6.7               3.1                4.4               1.4   \n",
              "11                 4.8               3.4                1.6               0.2   \n",
              "99                 5.7               2.8                4.1               1.3   \n",
              "140                6.7               3.1                5.6               2.4   \n",
              "14                 5.8               4.0                1.2               0.2   \n",
              "23                 5.1               3.3                1.7               0.5   \n",
              "79                 5.7               2.6                3.5               1.0   \n",
              "\n",
              "     species  \n",
              "147        2  \n",
              "130        2  \n",
              "28         0  \n",
              "64         1  \n",
              "80         1  \n",
              "100        2  \n",
              "18         0  \n",
              "144        2  \n",
              "65         1  \n",
              "11         0  \n",
              "99         1  \n",
              "140        2  \n",
              "14         0  \n",
              "23         0  \n",
              "79         1  "
            ]
          },
          "execution_count": 13,
          "metadata": {},
          "output_type": "execute_result"
        }
      ]
    },
    {
      "cell_type": "code",
      "metadata": {
        "id": "WkFfJxtQpeIR",
        "outputId": "5e03bcb2-9c16-4d36-e485-133639021870"
      },
      "source": [
        "iris_df.describe()"
      ],
      "execution_count": null,
      "outputs": [
        {
          "data": {
            "text/html": [
              "<div>\n",
              "<style scoped>\n",
              "    .dataframe tbody tr th:only-of-type {\n",
              "        vertical-align: middle;\n",
              "    }\n",
              "\n",
              "    .dataframe tbody tr th {\n",
              "        vertical-align: top;\n",
              "    }\n",
              "\n",
              "    .dataframe thead th {\n",
              "        text-align: right;\n",
              "    }\n",
              "</style>\n",
              "<table border=\"1\" class=\"dataframe\">\n",
              "  <thead>\n",
              "    <tr style=\"text-align: right;\">\n",
              "      <th></th>\n",
              "      <th>sepal length (cm)</th>\n",
              "      <th>sepal width (cm)</th>\n",
              "      <th>petal length (cm)</th>\n",
              "      <th>petal width (cm)</th>\n",
              "      <th>species</th>\n",
              "    </tr>\n",
              "  </thead>\n",
              "  <tbody>\n",
              "    <tr>\n",
              "      <th>count</th>\n",
              "      <td>150.000000</td>\n",
              "      <td>150.000000</td>\n",
              "      <td>150.000000</td>\n",
              "      <td>150.000000</td>\n",
              "      <td>150.000000</td>\n",
              "    </tr>\n",
              "    <tr>\n",
              "      <th>mean</th>\n",
              "      <td>5.843333</td>\n",
              "      <td>3.057333</td>\n",
              "      <td>3.758000</td>\n",
              "      <td>1.199333</td>\n",
              "      <td>1.000000</td>\n",
              "    </tr>\n",
              "    <tr>\n",
              "      <th>std</th>\n",
              "      <td>0.828066</td>\n",
              "      <td>0.435866</td>\n",
              "      <td>1.765298</td>\n",
              "      <td>0.762238</td>\n",
              "      <td>0.819232</td>\n",
              "    </tr>\n",
              "    <tr>\n",
              "      <th>min</th>\n",
              "      <td>4.300000</td>\n",
              "      <td>2.000000</td>\n",
              "      <td>1.000000</td>\n",
              "      <td>0.100000</td>\n",
              "      <td>0.000000</td>\n",
              "    </tr>\n",
              "    <tr>\n",
              "      <th>25%</th>\n",
              "      <td>5.100000</td>\n",
              "      <td>2.800000</td>\n",
              "      <td>1.600000</td>\n",
              "      <td>0.300000</td>\n",
              "      <td>0.000000</td>\n",
              "    </tr>\n",
              "    <tr>\n",
              "      <th>50%</th>\n",
              "      <td>5.800000</td>\n",
              "      <td>3.000000</td>\n",
              "      <td>4.350000</td>\n",
              "      <td>1.300000</td>\n",
              "      <td>1.000000</td>\n",
              "    </tr>\n",
              "    <tr>\n",
              "      <th>75%</th>\n",
              "      <td>6.400000</td>\n",
              "      <td>3.300000</td>\n",
              "      <td>5.100000</td>\n",
              "      <td>1.800000</td>\n",
              "      <td>2.000000</td>\n",
              "    </tr>\n",
              "    <tr>\n",
              "      <th>max</th>\n",
              "      <td>7.900000</td>\n",
              "      <td>4.400000</td>\n",
              "      <td>6.900000</td>\n",
              "      <td>2.500000</td>\n",
              "      <td>2.000000</td>\n",
              "    </tr>\n",
              "  </tbody>\n",
              "</table>\n",
              "</div>"
            ],
            "text/plain": [
              "       sepal length (cm)  sepal width (cm)  petal length (cm)  \\\n",
              "count         150.000000        150.000000         150.000000   \n",
              "mean            5.843333          3.057333           3.758000   \n",
              "std             0.828066          0.435866           1.765298   \n",
              "min             4.300000          2.000000           1.000000   \n",
              "25%             5.100000          2.800000           1.600000   \n",
              "50%             5.800000          3.000000           4.350000   \n",
              "75%             6.400000          3.300000           5.100000   \n",
              "max             7.900000          4.400000           6.900000   \n",
              "\n",
              "       petal width (cm)     species  \n",
              "count        150.000000  150.000000  \n",
              "mean           1.199333    1.000000  \n",
              "std            0.762238    0.819232  \n",
              "min            0.100000    0.000000  \n",
              "25%            0.300000    0.000000  \n",
              "50%            1.300000    1.000000  \n",
              "75%            1.800000    2.000000  \n",
              "max            2.500000    2.000000  "
            ]
          },
          "execution_count": 14,
          "metadata": {},
          "output_type": "execute_result"
        }
      ]
    },
    {
      "cell_type": "markdown",
      "metadata": {
        "id": "syFfm5zxpeIR"
      },
      "source": [
        "My features are the length, width of sepals and petals and my labels or target is the species of the irs setosa, versicolour, and virginica. I made my labels be displayed as 0, 1, 2 rather than there names."
      ]
    },
    {
      "cell_type": "markdown",
      "metadata": {
        "id": "XGz-BgZ-peIS"
      },
      "source": [
        "# Part 2: Split the dataset into train and test"
      ]
    },
    {
      "cell_type": "code",
      "metadata": {
        "id": "gXupGvq4peIS"
      },
      "source": [
        "x=iris_data.data\n",
        "y=iris_data.target\n",
        "x_train, x_test, y_train, y_test = train_test_split(x, y, test_size=0.10, random_state=1)"
      ],
      "execution_count": null,
      "outputs": []
    },
    {
      "cell_type": "markdown",
      "metadata": {
        "id": "PJ3z90TLpeIT"
      },
      "source": [
        "# Part 3: Logistic Regression "
      ]
    },
    {
      "cell_type": "code",
      "metadata": {
        "id": "3UgBr8lqpeIU",
        "outputId": "f1ca1484-019e-4dab-9121-e2f009756ff5"
      },
      "source": [
        "#Use sklearn to train a LogisticRegression model on the training set\n",
        "LR=LogisticRegression()\n",
        "\n",
        "lrmodel =LR.fit(x_train, y_train)\n",
        "\n",
        "# Create a sample datapoint and predict the output of that sample with the trained model\n",
        "predictions=lrmodel.predict_proba(np.array([[1,2,3,4]]))\n",
        "predictions"
      ],
      "execution_count": null,
      "outputs": [
        {
          "name": "stderr",
          "output_type": "stream",
          "text": [
            "/opt/anaconda3/lib/python3.8/site-packages/sklearn/linear_model/_logistic.py:762: ConvergenceWarning: lbfgs failed to converge (status=1):\n",
            "STOP: TOTAL NO. of ITERATIONS REACHED LIMIT.\n",
            "\n",
            "Increase the number of iterations (max_iter) or scale the data as shown in:\n",
            "    https://scikit-learn.org/stable/modules/preprocessing.html\n",
            "Please also refer to the documentation for alternative solver options:\n",
            "    https://scikit-learn.org/stable/modules/linear_model.html#logistic-regression\n",
            "  n_iter_i = _check_optimize_result(\n"
          ]
        },
        {
          "data": {
            "text/plain": [
              "array([[0.05188112, 0.00542333, 0.94269555]])"
            ]
          },
          "execution_count": 43,
          "metadata": {},
          "output_type": "execute_result"
        }
      ]
    },
    {
      "cell_type": "code",
      "metadata": {
        "id": "HUN7rla-peIU",
        "outputId": "89bc8b0b-9147-4dc3-cc7d-07e21c227523"
      },
      "source": [
        "#Report on the score for that model, in your own words (markdown, not code) explain what the score means\n",
        "print(f\"Score: {lrmodel.score(x_test,y_test)}\")"
      ],
      "execution_count": null,
      "outputs": [
        {
          "name": "stdout",
          "output_type": "stream",
          "text": [
            "Score: 1.0\n"
          ]
        }
      ]
    },
    {
      "cell_type": "markdown",
      "metadata": {
        "id": "tjgx7QTGpeIV"
      },
      "source": [
        "This score gives the predicted score of a given event using the logistic regression. SO it gives the testing accuracy."
      ]
    },
    {
      "cell_type": "code",
      "metadata": {
        "id": "sOfrQkivpeIV",
        "outputId": "88524bf8-0a93-47f5-f32c-0ea6c9d36ba0"
      },
      "source": [
        "#Extract the coefficents and intercepts for the boundary line(s)\n",
        "LR.coef_,LR.intercept_"
      ],
      "execution_count": null,
      "outputs": [
        {
          "data": {
            "text/plain": [
              "(array([[-0.42517641,  0.88010144, -2.460077  , -0.99830141],\n",
              "        [ 0.53888286, -0.32756661, -0.17158846, -0.95440952],\n",
              "        [-0.11370646, -0.55253484,  2.63166547,  1.95271093]]),\n",
              " array([  9.82456237,   1.97656097, -11.80112334]))"
            ]
          },
          "execution_count": 45,
          "metadata": {},
          "output_type": "execute_result"
        }
      ]
    },
    {
      "cell_type": "markdown",
      "metadata": {
        "id": "AwLYqQ11peIV"
      },
      "source": [
        "# Part 4: Support Vector Machine"
      ]
    },
    {
      "cell_type": "code",
      "metadata": {
        "id": "Doucd8dXpeIW",
        "outputId": "749aba41-4f8e-47f8-f85a-418caab18840"
      },
      "source": [
        "#Use sklearn to train a Support Vector Classifier on the training set\n",
        "svmmodel = svm.SVC(probability =True).fit(x_train, y_train)\n",
        "#For a sample datapoint, predict the probabilities for each possible class\n",
        "predict=svmmodel.predict_proba(np.array([[1,2,3,4]]))\n",
        "predict"
      ],
      "execution_count": null,
      "outputs": [
        {
          "data": {
            "text/plain": [
              "array([[0.2454599 , 0.27871636, 0.47582374]])"
            ]
          },
          "execution_count": 50,
          "metadata": {},
          "output_type": "execute_result"
        }
      ]
    },
    {
      "cell_type": "code",
      "metadata": {
        "id": "Zrs43CdvpeIW",
        "outputId": "403d6549-a72d-4a73-8b48-f611035d80c1"
      },
      "source": [
        "print(f\"Score: {svmmodel.score(x_test,y_test)}\")"
      ],
      "execution_count": null,
      "outputs": [
        {
          "name": "stdout",
          "output_type": "stream",
          "text": [
            "Score: 1.0\n"
          ]
        }
      ]
    },
    {
      "cell_type": "markdown",
      "metadata": {
        "id": "FsDhdb4rpeIW"
      },
      "source": [
        "Report on the score for the SVM, what does the score measure?\n",
        "The score of the svm is mesuring the mean accuracy on the iris test data and labels. "
      ]
    },
    {
      "cell_type": "markdown",
      "metadata": {
        "id": "Wa_AbVXHpeIW"
      },
      "source": [
        "# Part 5: Neural Network"
      ]
    },
    {
      "cell_type": "code",
      "metadata": {
        "id": "UMyJoNcipeIX",
        "outputId": "d2fc070d-0529-48ef-c00b-53bb01e4dfbb"
      },
      "source": [
        "#Use sklearn to train a Neural Network (MLP Classifier) on the training set\n",
        "nn = MLPClassifier(solver='lbfgs', \n",
        "                    alpha=1e-5,\n",
        "                    hidden_layer_sizes=(5,2), \n",
        "                    random_state=1)\n",
        "\n",
        "nnmodel=nn.fit(x_train, y_train)  \n",
        "#For a sample datapoint, predict the probabilities for each possible class\n",
        "pred=nnmodel.predict_proba(np.array([[1,2,3,4]]))\n",
        "pred"
      ],
      "execution_count": null,
      "outputs": [
        {
          "data": {
            "text/plain": [
              "array([[0.34733839, 0.32906164, 0.32359997]])"
            ]
          },
          "execution_count": 58,
          "metadata": {},
          "output_type": "execute_result"
        }
      ]
    },
    {
      "cell_type": "code",
      "metadata": {
        "id": "ytKvex1SpeIX",
        "outputId": "c3652b56-3337-4614-dd45-e71ca63d95e3"
      },
      "source": [
        "print(f\"Score: {nnmodel.score(x_test,y_test)}\")"
      ],
      "execution_count": null,
      "outputs": [
        {
          "name": "stdout",
          "output_type": "stream",
          "text": [
            "Score: 0.26666666666666666\n"
          ]
        }
      ]
    },
    {
      "cell_type": "markdown",
      "metadata": {
        "id": "SP8uZXjvpeIY"
      },
      "source": [
        "Report on the score for the Neural Network, what does the score measure?\n",
        "The score here is returning the accuracy of the iris data set and labels."
      ]
    },
    {
      "cell_type": "code",
      "metadata": {
        "id": "twjmUzfSpeIY",
        "outputId": "ce6b513d-14da-42dc-ef32-6b24f447754b"
      },
      "source": [
        "#Experiment with different options for the neural network, report on your best configuration (the highest score I was able to achieve was 0.8666)\n",
        "nnc = MLPClassifier(solver='lbfgs', \n",
        "                    alpha=1e-5,\n",
        "                    hidden_layer_sizes=(15,), \n",
        "                    random_state=1)\n",
        "\n",
        "nnmodelc=nnc.fit(x_train, y_train)\n",
        "print(f\"Score: {nnmodelc.score(x_test,y_test)}\")"
      ],
      "execution_count": null,
      "outputs": [
        {
          "name": "stdout",
          "output_type": "stream",
          "text": [
            "Score: 1.0\n"
          ]
        }
      ]
    },
    {
      "cell_type": "markdown",
      "metadata": {
        "id": "_PAUOFrKpeIY"
      },
      "source": [
        "By changing the hidden layer size to 15 the accuracy drastically improved from .2666 to 1.0"
      ]
    },
    {
      "cell_type": "markdown",
      "metadata": {
        "id": "9CXpAzrUpeIY"
      },
      "source": [
        "# Part 6: K-Nearest Neighbors"
      ]
    },
    {
      "cell_type": "code",
      "metadata": {
        "id": "oJpDGdvgpeIY",
        "outputId": "7e958c54-9c6e-418b-ac49-d068a116c781"
      },
      "source": [
        "#Use sklearn to 'train' a k-Neighbors Classifier\n",
        "#Note: KNN is a nonparametric model and technically doesn't require training\n",
        "#fit will essentially load the data into the model see link below for more information\n",
        "# https://stats.stackexchange.com/questions/349842/why-do-we-need-to-fit-a-k-nearest-neighbors-classifier\n",
        "KN = KNeighborsClassifier()\n",
        "knmodel=KN.fit(x_train, y_train)\n",
        "\n",
        "#For a sample datapoint, predict the probabilities for each possible class\n",
        "prediction=knmodel.predict_proba(np.array([[1,2,3,4]]))\n",
        "prediction"
      ],
      "execution_count": null,
      "outputs": [
        {
          "data": {
            "text/plain": [
              "array([[0. , 0.8, 0.2]])"
            ]
          },
          "execution_count": 70,
          "metadata": {},
          "output_type": "execute_result"
        }
      ]
    },
    {
      "cell_type": "code",
      "metadata": {
        "id": "HNacA6LvpeIZ",
        "outputId": "bc3ab8e6-a5f5-4f86-b514-1725ba4d4f6b"
      },
      "source": [
        "print(f\"Score: {knmodel.score(x_test,y_test)}\")"
      ],
      "execution_count": null,
      "outputs": [
        {
          "name": "stdout",
          "output_type": "stream",
          "text": [
            "Score: 1.0\n"
          ]
        }
      ]
    },
    {
      "cell_type": "markdown",
      "metadata": {
        "id": "4RrGESw9peIZ"
      },
      "source": [
        "Report on the score for kNN, what does the score measure?\n",
        "The score for the kNN is the coefficient of determination of the prediction made from the iris test data."
      ]
    },
    {
      "cell_type": "markdown",
      "metadata": {
        "id": "dZ0PsmKHpeIZ"
      },
      "source": [
        "# Part 7: Conclusions and takeaways\n",
        "In your own words describe the results of the notebook. Which model(s) performed the best on the dataset? Why do you think that is? Did anything surprise you about the exercise"
      ]
    },
    {
      "cell_type": "markdown",
      "metadata": {
        "id": "mvFq5ZX4peIZ"
      },
      "source": [
        "Overall, the results were mostly 1 for the different models score. Which makes most of them perform well like KNN, logistic regression and the svc with a rgb kernel. I was surprised that the NN had the worst result and with just changing the hidden layer size it changed its score drastically. "
      ]
    }
  ]
}